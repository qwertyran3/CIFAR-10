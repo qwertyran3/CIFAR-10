{
  "nbformat": 4,
  "nbformat_minor": 0,
  "metadata": {
    "colab": {
      "name": "cifar10.ipynb",
      "provenance": []
    },
    "kernelspec": {
      "name": "python3",
      "display_name": "Python 3"
    },
    "accelerator": "GPU"
  },
  "cells": [
    {
      "cell_type": "code",
      "metadata": {
        "id": "w3HI7CI7bIDm",
        "colab_type": "code",
        "colab": {
          "base_uri": "https://localhost:8080/",
          "height": 34
        },
        "outputId": "4e5e41bd-bc37-4638-9790-c2c5c110c762"
      },
      "source": [
        "import keras\n",
        "from keras.datasets import cifar10\n",
        "from keras.preprocessing.image import ImageDataGenerator\n",
        "from keras.models import Sequential\n",
        "from keras.layers import Dense, Dropout, Activation, Flatten\n",
        "from keras.layers import Conv2D, MaxPooling2D"
      ],
      "execution_count": 1,
      "outputs": [
        {
          "output_type": "stream",
          "text": [
            "Using TensorFlow backend.\n"
          ],
          "name": "stderr"
        }
      ]
    },
    {
      "cell_type": "code",
      "metadata": {
        "id": "Hw3c-JhGbKqT",
        "colab_type": "code",
        "colab": {}
      },
      "source": [
        "batch_size = 32\n",
        "num_classes = 10\n",
        "epochs = 100\n",
        "num_predictions = 20"
      ],
      "execution_count": 0,
      "outputs": []
    },
    {
      "cell_type": "code",
      "metadata": {
        "id": "f1fqjld1ba2_",
        "colab_type": "code",
        "colab": {
          "base_uri": "https://localhost:8080/",
          "height": 52
        },
        "outputId": "7562fae8-2fd2-4cfe-de2c-7580b91af30d"
      },
      "source": [
        "(x_train, y_train), (x_test, y_test) = cifar10.load_data()"
      ],
      "execution_count": 3,
      "outputs": [
        {
          "output_type": "stream",
          "text": [
            "Downloading data from https://www.cs.toronto.edu/~kriz/cifar-10-python.tar.gz\n",
            "170500096/170498071 [==============================] - 4s 0us/step\n"
          ],
          "name": "stdout"
        }
      ]
    },
    {
      "cell_type": "code",
      "metadata": {
        "id": "WFUs1-BXbgQ_",
        "colab_type": "code",
        "colab": {}
      },
      "source": [
        "y_train = keras.utils.to_categorical(y_train, num_classes)\n",
        "y_test = keras.utils.to_categorical(y_test, num_classes)"
      ],
      "execution_count": 0,
      "outputs": []
    },
    {
      "cell_type": "code",
      "metadata": {
        "id": "IbtBw6MdblPw",
        "colab_type": "code",
        "colab": {}
      },
      "source": [
        "def get_model():\n",
        "  model = Sequential()\n",
        "  model.add(Conv2D(32, (3, 3), padding='same',\n",
        "                  input_shape=x_train.shape[1:]))\n",
        "  model.add(Activation('relu'))\n",
        "  model.add(Conv2D(32, (3, 3)))\n",
        "  model.add(Activation('relu'))\n",
        "  model.add(MaxPooling2D(pool_size=(2, 2)))\n",
        "  model.add(Dropout(0.25))\n",
        "\n",
        "  model.add(Conv2D(64, (3, 3), padding='same'))\n",
        "  model.add(Activation('relu'))\n",
        "  model.add(Conv2D(64, (3, 3)))\n",
        "  model.add(Activation('relu'))\n",
        "  model.add(MaxPooling2D(pool_size=(2, 2)))\n",
        "  model.add(Dropout(0.25))\n",
        "\n",
        "  model.add(Flatten())\n",
        "  model.add(Dense(512))\n",
        "  model.add(Activation('relu'))\n",
        "  model.add(Dropout(0.5))\n",
        "  model.add(Dense(num_classes))\n",
        "  model.add(Activation('softmax'))\n",
        "\n",
        "  opt = keras.optimizers.RMSprop(learning_rate=0.0001, decay=1e-6)\n",
        "\n",
        "  model.compile(loss='categorical_crossentropy',\n",
        "              optimizer=opt,\n",
        "              metrics=['accuracy'])\n",
        "  return model"
      ],
      "execution_count": 0,
      "outputs": []
    },
    {
      "cell_type": "code",
      "metadata": {
        "id": "15-wErlBb8aX",
        "colab_type": "code",
        "colab": {
          "base_uri": "https://localhost:8080/",
          "height": 781
        },
        "outputId": "902269f0-6b88-40de-e512-2d97fb81f39c"
      },
      "source": [
        "model = get_model()\n",
        "model.summary()"
      ],
      "execution_count": 6,
      "outputs": [
        {
          "output_type": "stream",
          "text": [
            "Model: \"sequential_1\"\n",
            "_________________________________________________________________\n",
            "Layer (type)                 Output Shape              Param #   \n",
            "=================================================================\n",
            "conv2d_1 (Conv2D)            (None, 32, 32, 32)        896       \n",
            "_________________________________________________________________\n",
            "activation_1 (Activation)    (None, 32, 32, 32)        0         \n",
            "_________________________________________________________________\n",
            "conv2d_2 (Conv2D)            (None, 30, 30, 32)        9248      \n",
            "_________________________________________________________________\n",
            "activation_2 (Activation)    (None, 30, 30, 32)        0         \n",
            "_________________________________________________________________\n",
            "max_pooling2d_1 (MaxPooling2 (None, 15, 15, 32)        0         \n",
            "_________________________________________________________________\n",
            "dropout_1 (Dropout)          (None, 15, 15, 32)        0         \n",
            "_________________________________________________________________\n",
            "conv2d_3 (Conv2D)            (None, 15, 15, 64)        18496     \n",
            "_________________________________________________________________\n",
            "activation_3 (Activation)    (None, 15, 15, 64)        0         \n",
            "_________________________________________________________________\n",
            "conv2d_4 (Conv2D)            (None, 13, 13, 64)        36928     \n",
            "_________________________________________________________________\n",
            "activation_4 (Activation)    (None, 13, 13, 64)        0         \n",
            "_________________________________________________________________\n",
            "max_pooling2d_2 (MaxPooling2 (None, 6, 6, 64)          0         \n",
            "_________________________________________________________________\n",
            "dropout_2 (Dropout)          (None, 6, 6, 64)          0         \n",
            "_________________________________________________________________\n",
            "flatten_1 (Flatten)          (None, 2304)              0         \n",
            "_________________________________________________________________\n",
            "dense_1 (Dense)              (None, 512)               1180160   \n",
            "_________________________________________________________________\n",
            "activation_5 (Activation)    (None, 512)               0         \n",
            "_________________________________________________________________\n",
            "dropout_3 (Dropout)          (None, 512)               0         \n",
            "_________________________________________________________________\n",
            "dense_2 (Dense)              (None, 10)                5130      \n",
            "_________________________________________________________________\n",
            "activation_6 (Activation)    (None, 10)                0         \n",
            "=================================================================\n",
            "Total params: 1,250,858\n",
            "Trainable params: 1,250,858\n",
            "Non-trainable params: 0\n",
            "_________________________________________________________________\n"
          ],
          "name": "stdout"
        }
      ]
    },
    {
      "cell_type": "code",
      "metadata": {
        "id": "UVHUpS53cAXw",
        "colab_type": "code",
        "colab": {}
      },
      "source": [
        "x_train = x_train.astype('float32')\n",
        "x_test = x_test.astype('float32')\n",
        "x_train /= 255\n",
        "x_test /= 255\n"
      ],
      "execution_count": 0,
      "outputs": []
    },
    {
      "cell_type": "code",
      "metadata": {
        "id": "UkOvxDlPcG0p",
        "colab_type": "code",
        "colab": {
          "base_uri": "https://localhost:8080/",
          "height": 1000
        },
        "outputId": "1542b050-528e-4609-9541-7d9815728338"
      },
      "source": [
        "hist = model.fit(x_train, y_train,\n",
        "              batch_size=batch_size,\n",
        "              epochs=50,\n",
        "              validation_data=(x_test, y_test),\n",
        "              shuffle=True)"
      ],
      "execution_count": 9,
      "outputs": [
        {
          "output_type": "stream",
          "text": [
            "Train on 50000 samples, validate on 10000 samples\n",
            "Epoch 1/50\n",
            "50000/50000 [==============================] - 9s 186us/step - loss: 0.7521 - accuracy: 0.7418 - val_loss: 0.7379 - val_accuracy: 0.7482\n",
            "Epoch 2/50\n",
            "50000/50000 [==============================] - 9s 186us/step - loss: 0.7480 - accuracy: 0.7442 - val_loss: 0.7264 - val_accuracy: 0.7507\n",
            "Epoch 3/50\n",
            "50000/50000 [==============================] - 9s 185us/step - loss: 0.7391 - accuracy: 0.7487 - val_loss: 0.7572 - val_accuracy: 0.7374\n",
            "Epoch 4/50\n",
            "50000/50000 [==============================] - 9s 186us/step - loss: 0.7336 - accuracy: 0.7488 - val_loss: 0.7079 - val_accuracy: 0.7626\n",
            "Epoch 5/50\n",
            "50000/50000 [==============================] - 9s 186us/step - loss: 0.7274 - accuracy: 0.7522 - val_loss: 0.7219 - val_accuracy: 0.7580\n",
            "Epoch 6/50\n",
            "50000/50000 [==============================] - 9s 185us/step - loss: 0.7235 - accuracy: 0.7533 - val_loss: 0.7353 - val_accuracy: 0.7528\n",
            "Epoch 7/50\n",
            "50000/50000 [==============================] - 9s 187us/step - loss: 0.7169 - accuracy: 0.7557 - val_loss: 0.7411 - val_accuracy: 0.7623\n",
            "Epoch 8/50\n",
            "50000/50000 [==============================] - 9s 185us/step - loss: 0.7131 - accuracy: 0.7566 - val_loss: 0.6860 - val_accuracy: 0.7661\n",
            "Epoch 9/50\n",
            "50000/50000 [==============================] - 9s 184us/step - loss: 0.7075 - accuracy: 0.7581 - val_loss: 0.6797 - val_accuracy: 0.7683\n",
            "Epoch 10/50\n",
            "50000/50000 [==============================] - 9s 184us/step - loss: 0.6974 - accuracy: 0.7650 - val_loss: 0.6979 - val_accuracy: 0.7637\n",
            "Epoch 11/50\n",
            "50000/50000 [==============================] - 9s 185us/step - loss: 0.6996 - accuracy: 0.7623 - val_loss: 0.7707 - val_accuracy: 0.7474\n",
            "Epoch 12/50\n",
            "50000/50000 [==============================] - 9s 185us/step - loss: 0.6950 - accuracy: 0.7641 - val_loss: 0.7124 - val_accuracy: 0.7609\n",
            "Epoch 13/50\n",
            "50000/50000 [==============================] - 9s 184us/step - loss: 0.6884 - accuracy: 0.7689 - val_loss: 0.7332 - val_accuracy: 0.7705\n",
            "Epoch 14/50\n",
            "50000/50000 [==============================] - 9s 185us/step - loss: 0.6844 - accuracy: 0.7681 - val_loss: 0.6793 - val_accuracy: 0.7676\n",
            "Epoch 15/50\n",
            "50000/50000 [==============================] - 9s 185us/step - loss: 0.6804 - accuracy: 0.7679 - val_loss: 0.6715 - val_accuracy: 0.7741\n",
            "Epoch 16/50\n",
            "50000/50000 [==============================] - 9s 189us/step - loss: 0.6804 - accuracy: 0.7723 - val_loss: 0.7294 - val_accuracy: 0.7535\n",
            "Epoch 17/50\n",
            "50000/50000 [==============================] - 10s 190us/step - loss: 0.6777 - accuracy: 0.7708 - val_loss: 0.7285 - val_accuracy: 0.7527\n",
            "Epoch 18/50\n",
            "50000/50000 [==============================] - 9s 185us/step - loss: 0.6683 - accuracy: 0.7721 - val_loss: 0.6822 - val_accuracy: 0.7692\n",
            "Epoch 19/50\n",
            "50000/50000 [==============================] - 9s 184us/step - loss: 0.6721 - accuracy: 0.7733 - val_loss: 0.6802 - val_accuracy: 0.7644\n",
            "Epoch 20/50\n",
            "50000/50000 [==============================] - 9s 185us/step - loss: 0.6682 - accuracy: 0.7749 - val_loss: 0.6811 - val_accuracy: 0.7714\n",
            "Epoch 21/50\n",
            "50000/50000 [==============================] - 9s 184us/step - loss: 0.6636 - accuracy: 0.7771 - val_loss: 0.6728 - val_accuracy: 0.7721\n",
            "Epoch 22/50\n",
            "50000/50000 [==============================] - 9s 184us/step - loss: 0.6604 - accuracy: 0.7780 - val_loss: 0.6928 - val_accuracy: 0.7724\n",
            "Epoch 23/50\n",
            "50000/50000 [==============================] - 9s 184us/step - loss: 0.6607 - accuracy: 0.7784 - val_loss: 0.6614 - val_accuracy: 0.7790\n",
            "Epoch 24/50\n",
            "50000/50000 [==============================] - 9s 186us/step - loss: 0.6581 - accuracy: 0.7795 - val_loss: 0.6916 - val_accuracy: 0.7789\n",
            "Epoch 25/50\n",
            "50000/50000 [==============================] - 9s 185us/step - loss: 0.6526 - accuracy: 0.7815 - val_loss: 0.6987 - val_accuracy: 0.7709\n",
            "Epoch 26/50\n",
            "50000/50000 [==============================] - 9s 184us/step - loss: 0.6563 - accuracy: 0.7805 - val_loss: 0.6679 - val_accuracy: 0.7784\n",
            "Epoch 27/50\n",
            "50000/50000 [==============================] - 9s 184us/step - loss: 0.6504 - accuracy: 0.7814 - val_loss: 0.6789 - val_accuracy: 0.7781\n",
            "Epoch 28/50\n",
            "50000/50000 [==============================] - 9s 185us/step - loss: 0.6495 - accuracy: 0.7829 - val_loss: 0.6749 - val_accuracy: 0.7744\n",
            "Epoch 29/50\n",
            "50000/50000 [==============================] - 9s 184us/step - loss: 0.6474 - accuracy: 0.7817 - val_loss: 0.6694 - val_accuracy: 0.7827\n",
            "Epoch 30/50\n",
            "50000/50000 [==============================] - 9s 185us/step - loss: 0.6448 - accuracy: 0.7841 - val_loss: 0.6920 - val_accuracy: 0.7724\n",
            "Epoch 31/50\n",
            "50000/50000 [==============================] - 9s 186us/step - loss: 0.6407 - accuracy: 0.7845 - val_loss: 0.6907 - val_accuracy: 0.7700\n",
            "Epoch 32/50\n",
            "50000/50000 [==============================] - 9s 184us/step - loss: 0.6391 - accuracy: 0.7846 - val_loss: 0.6546 - val_accuracy: 0.7853\n",
            "Epoch 33/50\n",
            "50000/50000 [==============================] - 9s 186us/step - loss: 0.6401 - accuracy: 0.7866 - val_loss: 0.6609 - val_accuracy: 0.7866\n",
            "Epoch 34/50\n",
            "50000/50000 [==============================] - 9s 183us/step - loss: 0.6411 - accuracy: 0.7845 - val_loss: 0.6737 - val_accuracy: 0.7739\n",
            "Epoch 35/50\n",
            "50000/50000 [==============================] - 9s 183us/step - loss: 0.6348 - accuracy: 0.7867 - val_loss: 0.6616 - val_accuracy: 0.7887\n",
            "Epoch 36/50\n",
            "50000/50000 [==============================] - 9s 183us/step - loss: 0.6385 - accuracy: 0.7869 - val_loss: 0.7091 - val_accuracy: 0.7755\n",
            "Epoch 37/50\n",
            "50000/50000 [==============================] - 9s 183us/step - loss: 0.6350 - accuracy: 0.7849 - val_loss: 0.6635 - val_accuracy: 0.7866\n",
            "Epoch 38/50\n",
            "50000/50000 [==============================] - 9s 183us/step - loss: 0.6312 - accuracy: 0.7877 - val_loss: 0.6387 - val_accuracy: 0.7868\n",
            "Epoch 39/50\n",
            "50000/50000 [==============================] - 9s 183us/step - loss: 0.6329 - accuracy: 0.7898 - val_loss: 0.7308 - val_accuracy: 0.7773\n",
            "Epoch 40/50\n",
            "50000/50000 [==============================] - 9s 183us/step - loss: 0.6334 - accuracy: 0.7876 - val_loss: 0.6832 - val_accuracy: 0.7787\n",
            "Epoch 41/50\n",
            "50000/50000 [==============================] - 9s 184us/step - loss: 0.6353 - accuracy: 0.7881 - val_loss: 0.6848 - val_accuracy: 0.7798\n",
            "Epoch 42/50\n",
            "50000/50000 [==============================] - 9s 184us/step - loss: 0.6307 - accuracy: 0.7911 - val_loss: 0.6677 - val_accuracy: 0.7842\n",
            "Epoch 43/50\n",
            "50000/50000 [==============================] - 9s 183us/step - loss: 0.6335 - accuracy: 0.7914 - val_loss: 0.6808 - val_accuracy: 0.7873\n",
            "Epoch 44/50\n",
            "50000/50000 [==============================] - 9s 183us/step - loss: 0.6291 - accuracy: 0.7910 - val_loss: 0.6623 - val_accuracy: 0.7873\n",
            "Epoch 45/50\n",
            "50000/50000 [==============================] - 9s 183us/step - loss: 0.6273 - accuracy: 0.7907 - val_loss: 0.7323 - val_accuracy: 0.7721\n",
            "Epoch 46/50\n",
            "50000/50000 [==============================] - 9s 183us/step - loss: 0.6293 - accuracy: 0.7902 - val_loss: 0.6751 - val_accuracy: 0.7786\n",
            "Epoch 47/50\n",
            "50000/50000 [==============================] - 9s 184us/step - loss: 0.6256 - accuracy: 0.7904 - val_loss: 0.6539 - val_accuracy: 0.7882\n",
            "Epoch 48/50\n",
            "50000/50000 [==============================] - 9s 182us/step - loss: 0.6224 - accuracy: 0.7919 - val_loss: 0.7007 - val_accuracy: 0.7750\n",
            "Epoch 49/50\n",
            "50000/50000 [==============================] - 9s 183us/step - loss: 0.6259 - accuracy: 0.7918 - val_loss: 0.6722 - val_accuracy: 0.7828\n",
            "Epoch 50/50\n",
            "50000/50000 [==============================] - 9s 188us/step - loss: 0.6259 - accuracy: 0.7921 - val_loss: 0.7043 - val_accuracy: 0.7696\n"
          ],
          "name": "stdout"
        }
      ]
    },
    {
      "cell_type": "code",
      "metadata": {
        "id": "xviSSrQocSKQ",
        "colab_type": "code",
        "colab": {}
      },
      "source": [
        "acc = hist.history['accuracy']\n",
        "val_acc = hist.history['val_accuracy']\n",
        "loss = hist.history['loss']\n",
        "val_loss = hist.history['val_loss']\n"
      ],
      "execution_count": 0,
      "outputs": []
    },
    {
      "cell_type": "code",
      "metadata": {
        "id": "knpzonDzgLO_",
        "colab_type": "code",
        "colab": {}
      },
      "source": [
        "import matplotlib.pyplot as plt"
      ],
      "execution_count": 0,
      "outputs": []
    },
    {
      "cell_type": "code",
      "metadata": {
        "id": "0dX03bncgtw0",
        "colab_type": "code",
        "colab": {
          "base_uri": "https://localhost:8080/",
          "height": 34
        },
        "outputId": "9ced18a9-1d3c-41f7-a579-b5c5e0acef2b"
      },
      "source": [
        "plt.plot()"
      ],
      "execution_count": 24,
      "outputs": [
        {
          "output_type": "execute_result",
          "data": {
            "text/plain": [
              "[0, 1, 2, 3, 4, 5, 6, 7, 8, 9]"
            ]
          },
          "metadata": {
            "tags": []
          },
          "execution_count": 24
        }
      ]
    },
    {
      "cell_type": "code",
      "metadata": {
        "id": "BDDP4a4EgT_k",
        "colab_type": "code",
        "colab": {
          "base_uri": "https://localhost:8080/",
          "height": 265
        },
        "outputId": "62b2a68d-53da-42eb-c346-700d044d7bc7"
      },
      "source": [
        "t_loss, = plt.plot(range(len(loss)),loss, label=\"Train loss\")\n",
        "v_loss, = plt.plot(range(len(val_loss)),val_loss, label=\"Valid loss\")\n",
        "plt.legend([t_loss,v_loss],[\"Train loss\",\"Valid loss\"])\n",
        "plt.show()"
      ],
      "execution_count": 35,
      "outputs": [
        {
          "output_type": "display_data",
          "data": {
            "image/png": "[encoded data removed]",
            "text/plain": [
              "<Figure size 432x288 with 1 Axes>"
            ]
          },
          "metadata": {
            "tags": [],
            "needs_background": "light"
          }
        }
      ]
    },
    {
      "cell_type": "code",
      "metadata": {
        "id": "jDTXVKq3gioR",
        "colab_type": "code",
        "colab": {
          "base_uri": "https://localhost:8080/",
          "height": 265
        },
        "outputId": "ec5b8a70-c148-42e8-9859-877540b66767"
      },
      "source": [
        "t_acc, = plt.plot(range(len(acc)),acc, label=\"Train acc\")\n",
        "v_acc, = plt.plot(range(len(val_acc)),val_acc, label=\"Valid acc\")\n",
        "plt.legend([t_acc,v_acc],[\"Train acc\",\"Valid acc\"])\n",
        "plt.show()"
      ],
      "execution_count": 36,
      "outputs": [
        {
          "output_type": "display_data",
          "data": {
            "image/png": "[encoded data removed]",
            "text/plain": [
              "<Figure size 432x288 with 1 Axes>"
            ]
          },
          "metadata": {
            "tags": [],
            "needs_background": "light"
          }
        }
      ]
    },
    {
      "cell_type": "code",
      "metadata": {
        "id": "6i8so5jVjLrh",
        "colab_type": "code",
        "colab": {
          "base_uri": "https://localhost:8080/",
          "height": 69
        },
        "outputId": "2056dc8a-0747-4dd9-e6ce-9a0f1e333459"
      },
      "source": [
        "scores = model.evaluate(x_test, y_test, verbose=1)\n",
        "print('Test loss:', scores[0])\n",
        "print('Test accuracy:', scores[1])"
      ],
      "execution_count": 37,
      "outputs": [
        {
          "output_type": "stream",
          "text": [
            "10000/10000 [==============================] - 1s 87us/step\n",
            "Test loss: 0.7042852272987365\n",
            "Test accuracy: 0.769599974155426\n"
          ],
          "name": "stdout"
        }
      ]
    },
    {
      "cell_type": "code",
      "metadata": {
        "id": "vNQRR2TqjRV_",
        "colab_type": "code",
        "colab": {}
      },
      "source": [
        ""
      ],
      "execution_count": 0,
      "outputs": []
    }
  ]
}